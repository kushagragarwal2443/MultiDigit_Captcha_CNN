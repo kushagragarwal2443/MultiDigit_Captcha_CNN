{
 "cells": [
  {
   "cell_type": "code",
   "execution_count": 4,
   "id": "shared-restaurant",
   "metadata": {},
   "outputs": [],
   "source": [
    "import numpy as np\n",
    "import keras\n",
    "import matplotlib.pyplot as plt\n",
    "import tensorflow as tf\n",
    "import cv2"
   ]
  },
  {
   "cell_type": "code",
   "execution_count": 2,
   "id": "residential-coordinator",
   "metadata": {},
   "outputs": [],
   "source": [
    "train_data0 = np.load('Data/data0.npy')\n",
    "train_lab0 = np.load('Label/lab0.npy')\n",
    "\n",
    "train_data1 = np.load('Data/data1.npy')\n",
    "train_lab1 = np.load('Label/lab1.npy')\n",
    "\n",
    "train_data2 = np.load('Data/data2.npy')\n",
    "train_lab2 = np.load('Label/lab2.npy')"
   ]
  },
  {
   "cell_type": "code",
   "execution_count": 3,
   "id": "organic-queue",
   "metadata": {},
   "outputs": [
    {
     "name": "stdout",
     "output_type": "stream",
     "text": [
      "Original dataset sizes: (30000, 40, 168) (30000,)\n"
     ]
    }
   ],
   "source": [
    "train_data = np.vstack((train_data0, train_data1, train_data2))\n",
    "train_lab = np.hstack((train_lab0, train_lab1, train_lab2))\n",
    "print(\"Original dataset sizes:\", train_data.shape, train_lab.shape)"
   ]
  },
  {
   "cell_type": "code",
   "execution_count": 5,
   "id": "international-cathedral",
   "metadata": {},
   "outputs": [],
   "source": [
    "def resize_to_fit(image, width, height):\n",
    "    \n",
    "    deltaw = width - image.shape[1]\n",
    "    deltah = height - image.shape[0]\n",
    "    if (deltaw < 0 or deltah < 0):\n",
    "        if (deltaw < 0):\n",
    "            image = image[:, :28]\n",
    "            deltaw = width - image.shape[1]\n",
    "        if (deltah < 0):\n",
    "            image = image[:28, :]\n",
    "            deltah = height - image.shape[0]\n",
    "    if (deltaw % 2 == 0):\n",
    "        padW1 = int(deltaw/2)\n",
    "        padW2 = padW1\n",
    "    else:\n",
    "        padW1 = int(deltaw/2)\n",
    "        padW2 = padW1 + 1\n",
    "    if (deltah % 2 == 0):\n",
    "        padH1 = int(deltah/2)\n",
    "        padH2 = padH1\n",
    "    else:\n",
    "        padH1 = int(deltah/2)\n",
    "        padH2 = padH1 + 1\n",
    "    image = cv2.copyMakeBorder(image, padH1, padH2, padW1, padW2, cv2.BORDER_CONSTANT, value=0)\n",
    "    return image"
   ]
  },
  {
   "cell_type": "code",
   "execution_count": 11,
   "id": "jewish-supply",
   "metadata": {},
   "outputs": [
    {
     "ename": "MemoryError",
     "evalue": "Unable to allocate 11.2 GiB for an array with shape (10000, 224, 224, 3) and data type float64",
     "output_type": "error",
     "traceback": [
      "\u001b[0;31m---------------------------------------------------------------------------\u001b[0m",
      "\u001b[0;31mMemoryError\u001b[0m                               Traceback (most recent call last)",
      "\u001b[0;32m<ipython-input-11-3e540656c283>\u001b[0m in \u001b[0;36m<module>\u001b[0;34m\u001b[0m\n\u001b[0;32m----> 1\u001b[0;31m \u001b[0mtrain_resized\u001b[0m \u001b[0;34m=\u001b[0m \u001b[0mnp\u001b[0m\u001b[0;34m.\u001b[0m\u001b[0mzeros\u001b[0m\u001b[0;34m(\u001b[0m\u001b[0;34m(\u001b[0m\u001b[0;36m10000\u001b[0m\u001b[0;34m,\u001b[0m \u001b[0;36m224\u001b[0m\u001b[0;34m,\u001b[0m \u001b[0;36m224\u001b[0m\u001b[0;34m,\u001b[0m \u001b[0;36m3\u001b[0m\u001b[0;34m)\u001b[0m\u001b[0;34m)\u001b[0m\u001b[0;34m\u001b[0m\u001b[0;34m\u001b[0m\u001b[0m\n\u001b[0m\u001b[1;32m      2\u001b[0m \u001b[0mprint\u001b[0m\u001b[0;34m(\u001b[0m\u001b[0mtrain_resized\u001b[0m\u001b[0;34m.\u001b[0m\u001b[0mshape\u001b[0m\u001b[0;34m)\u001b[0m\u001b[0;34m\u001b[0m\u001b[0;34m\u001b[0m\u001b[0m\n\u001b[1;32m      3\u001b[0m \u001b[0;32mfor\u001b[0m \u001b[0mi\u001b[0m \u001b[0;32min\u001b[0m \u001b[0mrange\u001b[0m\u001b[0;34m(\u001b[0m\u001b[0;36m100\u001b[0m\u001b[0;34m)\u001b[0m\u001b[0;34m:\u001b[0m\u001b[0;34m\u001b[0m\u001b[0;34m\u001b[0m\u001b[0m\n\u001b[1;32m      4\u001b[0m     \u001b[0mimage_org\u001b[0m \u001b[0;34m=\u001b[0m \u001b[0mtrain_data\u001b[0m\u001b[0;34m[\u001b[0m\u001b[0mi\u001b[0m\u001b[0;34m,\u001b[0m \u001b[0;34m:\u001b[0m\u001b[0;34m,\u001b[0m \u001b[0;34m:\u001b[0m\u001b[0;34m]\u001b[0m\u001b[0;34m\u001b[0m\u001b[0;34m\u001b[0m\u001b[0m\n\u001b[1;32m      5\u001b[0m     \u001b[0mimage\u001b[0m \u001b[0;34m=\u001b[0m \u001b[0mresize_to_fit\u001b[0m\u001b[0;34m(\u001b[0m\u001b[0mimage_org\u001b[0m\u001b[0;34m,\u001b[0m \u001b[0;36m224\u001b[0m\u001b[0;34m,\u001b[0m \u001b[0;36m224\u001b[0m\u001b[0;34m)\u001b[0m\u001b[0;34m\u001b[0m\u001b[0;34m\u001b[0m\u001b[0m\n",
      "\u001b[0;31mMemoryError\u001b[0m: Unable to allocate 11.2 GiB for an array with shape (10000, 224, 224, 3) and data type float64"
     ]
    }
   ],
   "source": [
    "train_resized = np.zeros((10000, 224, 224, 3))\n",
    "print(train_resized.shape)\n",
    "for i in range(100):\n",
    "    image_org = train_data[i, :, :]\n",
    "    image = resize_to_fit(image_org, 224, 224)\n",
    "    image_mod = np.stack((image, image, image), axis=2)\n",
    "    train_resized[i, :, :, :] = image_mod"
   ]
  },
  {
   "cell_type": "code",
   "execution_count": null,
   "id": "fourth-danish",
   "metadata": {},
   "outputs": [],
   "source": []
  }
 ],
 "metadata": {
  "kernelspec": {
   "display_name": "Python 3",
   "language": "python",
   "name": "python3"
  },
  "language_info": {
   "codemirror_mode": {
    "name": "ipython",
    "version": 3
   },
   "file_extension": ".py",
   "mimetype": "text/x-python",
   "name": "python",
   "nbconvert_exporter": "python",
   "pygments_lexer": "ipython3",
   "version": "3.8.3"
  }
 },
 "nbformat": 4,
 "nbformat_minor": 5
}
