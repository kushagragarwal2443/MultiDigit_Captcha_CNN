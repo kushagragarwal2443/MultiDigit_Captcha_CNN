{
  "nbformat": 4,
  "nbformat_minor": 0,
  "metadata": {
    "colab": {
      "name": "test_preds.ipynb",
      "provenance": [],
      "collapsed_sections": []
    },
    "kernelspec": {
      "name": "python3",
      "display_name": "Python 3"
    },
    "accelerator": "GPU"
  },
  "cells": [
    {
      "cell_type": "code",
      "metadata": {
        "colab": {
          "base_uri": "https://localhost:8080/"
        },
        "id": "ZRsr_CMrPWD1",
        "outputId": "5e723fd8-79c1-48aa-97dc-3b5fbc5b37db"
      },
      "source": [
        "import numpy as np\n",
        "import random\n",
        "import os\n",
        "import cv2\n",
        "import pandas\n",
        "import matplotlib.pyplot as plt\n",
        "import imutils\n",
        "import tensorflow as tf\n",
        "from google.colab import drive\n",
        "from sklearn.model_selection import KFold\n",
        "import keras\n",
        "from keras.utils import to_categorical\n",
        "from keras.models import Sequential\n",
        "from keras.layers import Conv2D\n",
        "from keras.layers import MaxPooling2D\n",
        "from keras.layers import Dense\n",
        "from keras.layers import Flatten\n",
        "from keras.models import model_from_json\n",
        "from keras.optimizers import SGD\n",
        "from sklearn.metrics import classification_report, confusion_matrix\n",
        "from numpy import mean\n",
        "from numpy import std\n",
        "from keras.datasets import mnist\n",
        "from PIL import Image, ImageOps\n",
        "\n",
        "drive.mount(\"/content/gdrive\")"
      ],
      "execution_count": 1,
      "outputs": [
        {
          "output_type": "stream",
          "text": [
            "Mounted at /content/gdrive\n"
          ],
          "name": "stdout"
        }
      ]
    },
    {
      "cell_type": "code",
      "metadata": {
        "colab": {
          "base_uri": "https://localhost:8080/",
          "height": 35
        },
        "id": "CWLShKrHP5xC",
        "outputId": "6495eb3c-81f4-4efe-fda9-973734521751"
      },
      "source": [
        "tf.test.gpu_device_name()"
      ],
      "execution_count": 2,
      "outputs": [
        {
          "output_type": "execute_result",
          "data": {
            "application/vnd.google.colaboratory.intrinsic+json": {
              "type": "string"
            },
            "text/plain": [
              "'/device:GPU:0'"
            ]
          },
          "metadata": {
            "tags": []
          },
          "execution_count": 2
        }
      ]
    },
    {
      "cell_type": "code",
      "metadata": {
        "id": "5eT6Pt1mQnXS"
      },
      "source": [
        "location1 = \"/content/gdrive/My Drive/Colab Notebooks/MultiDigit_CNN/\"\n",
        "location2 = \"/content/gdrive/My Drive/Colab Notebooks/MNIST/\""
      ],
      "execution_count": 3,
      "outputs": []
    },
    {
      "cell_type": "code",
      "metadata": {
        "colab": {
          "base_uri": "https://localhost:8080/"
        },
        "id": "kf2pufWKRE0t",
        "outputId": "8fbf8272-3c61-40c8-f864-e0bd35808755"
      },
      "source": [
        "test_data = np.load(location1 + 'Data/data9.npy')\n",
        "print(\"Original dataset sizes:\", test_data.shape)\n",
        "test_data = np.expand_dims(test_data, axis=3)\n",
        "print(\"New dataset sizes:\", test_data.shape)"
      ],
      "execution_count": 4,
      "outputs": [
        {
          "output_type": "stream",
          "text": [
            "Original dataset sizes: (10000, 40, 168)\n",
            "New dataset sizes: (10000, 40, 168, 1)\n"
          ],
          "name": "stdout"
        }
      ]
    },
    {
      "cell_type": "code",
      "metadata": {
        "id": "wtlg-0ZET17I"
      },
      "source": [
        "def resize_to_fit(image, width, height):\n",
        "    \n",
        "    deltaw = width - image.shape[1]\n",
        "    deltah = height - image.shape[0]\n",
        "    if (deltaw < 0 or deltah < 0):\n",
        "      if (deltaw < 0):\n",
        "        image = image[:, :28]\n",
        "        deltaw = width - image.shape[1]\n",
        "      if (deltah < 0):\n",
        "        image = image[:28, :]\n",
        "        deltah = height - image.shape[0]\n",
        "    if (deltaw % 2 == 0):\n",
        "      padW1 = int(deltaw/2)\n",
        "      padW2 = padW1\n",
        "    else:\n",
        "      padW1 = int(deltaw/2)\n",
        "      padW2 = padW1 + 1\n",
        "    if (deltah % 2 == 0):\n",
        "      padH1 = int(deltah/2)\n",
        "      padH2 = padH1\n",
        "    else:\n",
        "      padH1 = int(deltah/2)\n",
        "      padH2 = padH1 + 1\n",
        "    image = cv2.copyMakeBorder(image, padH1, padH2, padW1, padW2, cv2.BORDER_CONSTANT, value=0)\n",
        "    return image"
      ],
      "execution_count": 5,
      "outputs": []
    },
    {
      "cell_type": "code",
      "metadata": {
        "colab": {
          "base_uri": "https://localhost:8080/"
        },
        "id": "s4SmNnU8P6M3",
        "outputId": "f0360629-da74-4b46-a1e5-a4e0f2f94523"
      },
      "source": [
        "choice = int(input(\"Do you want to load any saved model? Enter 1 for Yes and 0 for No: \"))\n",
        "if(choice == 1):\n",
        "\n",
        "  acc_tr = int(input(\"Enter train accuracy rounded to the nearest integer: \"))\n",
        "  acc_va = int(input(\"Enter validation accuracy rounded to the nearest integer: \"))\n",
        "  file_name = location1 + 'model_' + str(acc_tr) + \"_\" + str(acc_va)\n",
        "\n",
        "  # load json and create model\n",
        "  json_file = open(file_name + '.json', 'r')\n",
        "  loaded_model_json1 = json_file.read()\n",
        "  json_file.close()\n",
        "  loaded_model1 = model_from_json(loaded_model_json1)\n",
        "  # load weights into new model\n",
        "  loaded_model1.load_weights(file_name + \".h5\")\n",
        "  print(\"Loaded model from disk\")\n",
        "\n",
        "  # evaluate loaded model on test data\n",
        "  loaded_model1.compile(loss=keras.losses.categorical_crossentropy, optimizer='adam', metrics=['accuracy'])\n",
        "\n",
        "  predictions1_full = loaded_model1.predict(test_data)\n",
        "  print(predictions1_full.shape)"
      ],
      "execution_count": 6,
      "outputs": [
        {
          "output_type": "stream",
          "text": [
            "Do you want to load any saved model? Enter 1 for Yes and 0 for No: 1\n",
            "Enter train accuracy rounded to the nearest integer: 93\n",
            "Enter validation accuracy rounded to the nearest integer: 80\n",
            "Loaded model from disk\n",
            "(10000, 37)\n"
          ],
          "name": "stdout"
        }
      ]
    },
    {
      "cell_type": "code",
      "metadata": {
        "colab": {
          "base_uri": "https://localhost:8080/"
        },
        "id": "nmnG_VfuTvZQ",
        "outputId": "e1c3557f-9930-43c3-9eeb-86fde4f925dd"
      },
      "source": [
        "choice = int(input(\"Do you want to load any saved model? Enter 1 for Yes and 0 for No: \"))\n",
        "if(choice == 1):\n",
        "\n",
        "  acc_tr = int(input(\"Enter train accuracy rounded to the nearest integer: \"))\n",
        "  acc_va = int(input(\"Enter validation accuracy rounded to the nearest integer: \"))\n",
        "  file_name = location2 + 'model_' + str(acc_tr) + \"_\" + str(acc_va)\n",
        "\n",
        "  # load json and create model\n",
        "  json_file = open(file_name + '.json', 'r')\n",
        "  loaded_model_json2 = json_file.read()\n",
        "  json_file.close()\n",
        "  loaded_model2 = model_from_json(loaded_model_json2)\n",
        "  # load weights into new model\n",
        "  loaded_model2.load_weights(file_name + \".h5\")\n",
        "  print(\"Loaded model from disk\")\n",
        "\n",
        "  # evaluate loaded model on test data\n",
        "  loaded_model2.compile(loss=keras.losses.categorical_crossentropy, optimizer='adam', metrics=['accuracy'])"
      ],
      "execution_count": 7,
      "outputs": [
        {
          "output_type": "stream",
          "text": [
            "Do you want to load any saved model? Enter 1 for Yes and 0 for No: 1\n",
            "Enter train accuracy rounded to the nearest integer: 100\n",
            "Enter validation accuracy rounded to the nearest integer: 9933\n",
            "Loaded model from disk\n"
          ],
          "name": "stdout"
        }
      ]
    },
    {
      "cell_type": "code",
      "metadata": {
        "colab": {
          "base_uri": "https://localhost:8080/"
        },
        "id": "3o6XbbYf6gGl",
        "outputId": "7d038a31-7ea3-419e-886f-510816735d35"
      },
      "source": [
        "choice = int(input(\"Do you want to load any saved model? Enter 1 for Yes and 0 for No: \"))\n",
        "if(choice == 1):\n",
        "\n",
        "  acc_tr = int(input(\"Enter train accuracy rounded to the nearest integer: \"))\n",
        "  acc_va = int(input(\"Enter validation accuracy rounded to the nearest integer: \"))\n",
        "  file_name = location1 + 'model_' + str(acc_tr) + \"_\" + str(acc_va)\n",
        "\n",
        "  # load json and create model\n",
        "  json_file = open(file_name + '.json', 'r')\n",
        "  loaded_model_json3 = json_file.read()\n",
        "  json_file.close()\n",
        "  loaded_model3 = model_from_json(loaded_model_json3)\n",
        "  # load weights into new model\n",
        "  loaded_model3.load_weights(file_name + \".h5\")\n",
        "  print(\"Loaded model from disk\")\n",
        "\n",
        "  # evaluate loaded model on test data\n",
        "  loaded_model3.compile(loss=keras.losses.categorical_crossentropy, optimizer='adam', metrics=['accuracy'])\n",
        "  \n",
        "  temp_test_data = test_data.astype('float32')\n",
        "  temp_test_data /= 255\n",
        "\n",
        "  predictions3_full = loaded_model3.predict(temp_test_data)\n",
        "  print(predictions3_full.shape)"
      ],
      "execution_count": 8,
      "outputs": [
        {
          "output_type": "stream",
          "text": [
            "Do you want to load any saved model? Enter 1 for Yes and 0 for No: 1\n",
            "Enter train accuracy rounded to the nearest integer: 96\n",
            "Enter validation accuracy rounded to the nearest integer: 75\n",
            "Loaded model from disk\n",
            "(10000, 37)\n"
          ],
          "name": "stdout"
        }
      ]
    },
    {
      "cell_type": "code",
      "metadata": {
        "colab": {
          "base_uri": "https://localhost:8080/"
        },
        "id": "o9OXLp1aFirP",
        "outputId": "9d123449-5a93-44cf-d904-6741f658ed0c"
      },
      "source": [
        "choice = int(input(\"Do you want to load any saved model? Enter 1 for Yes and 0 for No: \"))\n",
        "if(choice == 1):\n",
        "\n",
        "  acc_tr = int(input(\"Enter train accuracy rounded to the nearest integer: \"))\n",
        "  acc_va = int(input(\"Enter validation accuracy rounded to the nearest integer: \"))\n",
        "  file_name = location1 + 'model_' + str(acc_tr) + \"_\" + str(acc_va)\n",
        "\n",
        "  # load json and create model\n",
        "  json_file = open(file_name + '.json', 'r')\n",
        "  loaded_model_json4 = json_file.read()\n",
        "  json_file.close()\n",
        "  loaded_model4 = model_from_json(loaded_model_json4)\n",
        "  # load weights into new model8\n",
        "  loaded_model4.load_weights(file_name + \".h5\")\n",
        "  print(\"Loaded model from disk\")\n",
        "\n",
        "  # evaluate loaded model on test data\n",
        "  loaded_model4.compile(loss=keras.losses.categorical_crossentropy, optimizer='adam', metrics=['accuracy'])\n",
        "\n",
        "  predictions4_full = loaded_model4.predict(test_data)\n",
        "  print(predictions4_full.shape)"
      ],
      "execution_count": 9,
      "outputs": [
        {
          "output_type": "stream",
          "text": [
            "Do you want to load any saved model? Enter 1 for Yes and 0 for No: 1\n",
            "Enter train accuracy rounded to the nearest integer: 92\n",
            "Enter validation accuracy rounded to the nearest integer: 81\n",
            "Loaded model from disk\n",
            "(10000, 37)\n"
          ],
          "name": "stdout"
        }
      ]
    },
    {
      "cell_type": "code",
      "metadata": {
        "colab": {
          "base_uri": "https://localhost:8080/"
        },
        "id": "Z35lU4DzVJLT",
        "outputId": "334806b8-3c1c-4c11-b6b6-ee5bd890ba93"
      },
      "source": [
        "bad_image_count = 0\n",
        "bad_image_dict = dict()\n",
        "\n",
        "show = 0\n",
        "start = 0\n",
        "end = 10000\n",
        "\n",
        "predictions2 = []\n",
        "\n",
        "for (i,image) in enumerate(test_data[start:end]):\n",
        "\n",
        "    if(i>0 and i%100 == 0):\n",
        "      print(i, \"Done\")\n",
        "      \n",
        "    padded_image = cv2.copyMakeBorder(image, 8, 8, 8, 8, cv2.BORDER_REPLICATE)\n",
        "\n",
        "    if(show == 1):\n",
        "      plt.imshow(padded_image)\n",
        "      plt.show()\n",
        "      \n",
        "    # Finding the contours in the image\n",
        "    contours = cv2.findContours(padded_image.copy(), cv2.RETR_EXTERNAL, cv2.CHAIN_APPROX_SIMPLE)\n",
        "    contours = contours[1] if imutils.is_cv3() else contours[0]\n",
        "    \n",
        "    letter_image_regions = []\n",
        "\n",
        "    for contour in contours:\n",
        "        (x, y, w, h) = cv2.boundingRect(contour)\n",
        "        \n",
        "        if (w > 40):\n",
        "            # print(\"Splitting into 3\")\n",
        "            # This contour is too wide to be a single letter, hence split\n",
        "            onethird_width = int(w / 3)\n",
        "            letter_image_regions.append((x, y, onethird_width, h))\n",
        "            letter_image_regions.append((x + onethird_width, y, onethird_width, h))\n",
        "            letter_image_regions.append((x + 2*onethird_width, y, onethird_width, h))\n",
        "        \n",
        "        elif (w > 20):\n",
        "            # print(\"Splitting into 2\")\n",
        "            # This contour is too wide to be a single letter, hence split\n",
        "            half_width = int(w / 2)\n",
        "            letter_image_regions.append((x, y, half_width, h))\n",
        "            letter_image_regions.append((x + half_width, y, half_width, h))\n",
        "        \n",
        "        elif (w< 3 or h<9):\n",
        "            # print(\"Random pixel block\")\n",
        "            # Some error in contouring, ignore!\n",
        "            continue\n",
        "        \n",
        "        else:\n",
        "            letter_image_regions.append((x, y, w, h))\n",
        "        \n",
        "    # If less/more than 4 detected digits take note of the error\n",
        "    if len(letter_image_regions) != 4:\n",
        "        bad_image_count+=1\n",
        "        if (str(len(letter_image_regions)) not in bad_image_dict):\n",
        "            bad_image_dict[str(len(letter_image_regions))] = [i] \n",
        "        else:\n",
        "            bad_image_dict[str(len(letter_image_regions))].append(i)\n",
        "\n",
        "    # Sort the detected letter images based on the x coordinate\n",
        "    letter_image_regions = sorted(letter_image_regions, key=lambda x: x[0])\n",
        "    \n",
        "    sum = 0\n",
        "\n",
        "    for letter_bounding_box in letter_image_regions:\n",
        "        x, y, w, h = letter_bounding_box\n",
        "        letter_image = padded_image[y-2:y + h+2, x-2:x + w+2]\n",
        "        modified_image = resize_to_fit(letter_image, 28, 28)\n",
        "        modified_image = modified_image.astype('float32')\n",
        "\n",
        "        # gauss = np.random.normal(0,1, modified_image.size)\n",
        "        # gauss = gauss.reshape(modified_image.shape[0],modified_image.shape[1]).astype('float32')\n",
        "        # modified_image += 4*gauss\n",
        "\n",
        "        modified_image = cv2.bilateralFilter(modified_image, 7, 15, 15)\n",
        "\n",
        "        modified_image /= 255.0\n",
        "        \n",
        "        if(show == 1):\n",
        "          plt.imshow(modified_image)\n",
        "          plt.show()\n",
        "          plt.hist(modified_image.ravel(),10,[0,1])\n",
        "          plt.show()\n",
        "\n",
        "        model_prediction = np.argmax(loaded_model2.predict(modified_image.reshape(1, 28, 28, 1)),axis = 1)[0]\n",
        "        if(show == 1):\n",
        "          print(model_prediction)\n",
        "        sum += model_prediction\n",
        "\n",
        "    if(show == 1):\n",
        "      print(train_lab[start+i], sum)\n",
        "\n",
        "    predictions2.append(sum)\n",
        "\n",
        "np.save(location2 + \"predictions2_final_02\", predictions2)"
      ],
      "execution_count": 10,
      "outputs": [
        {
          "output_type": "stream",
          "text": [
            "100 Done\n",
            "200 Done\n",
            "300 Done\n",
            "400 Done\n",
            "500 Done\n",
            "600 Done\n",
            "700 Done\n",
            "800 Done\n",
            "900 Done\n",
            "1000 Done\n",
            "1100 Done\n",
            "1200 Done\n",
            "1300 Done\n",
            "1400 Done\n",
            "1500 Done\n",
            "1600 Done\n",
            "1700 Done\n",
            "1800 Done\n",
            "1900 Done\n",
            "2000 Done\n",
            "2100 Done\n",
            "2200 Done\n",
            "2300 Done\n",
            "2400 Done\n",
            "2500 Done\n",
            "2600 Done\n",
            "2700 Done\n",
            "2800 Done\n",
            "2900 Done\n",
            "3000 Done\n",
            "3100 Done\n",
            "3200 Done\n",
            "3300 Done\n",
            "3400 Done\n",
            "3500 Done\n",
            "3600 Done\n",
            "3700 Done\n",
            "3800 Done\n",
            "3900 Done\n",
            "4000 Done\n",
            "4100 Done\n",
            "4200 Done\n",
            "4300 Done\n",
            "4400 Done\n",
            "4500 Done\n",
            "4600 Done\n",
            "4700 Done\n",
            "4800 Done\n",
            "4900 Done\n",
            "5000 Done\n",
            "5100 Done\n",
            "5200 Done\n",
            "5300 Done\n",
            "5400 Done\n",
            "5500 Done\n",
            "5600 Done\n",
            "5700 Done\n",
            "5800 Done\n",
            "5900 Done\n",
            "6000 Done\n",
            "6100 Done\n",
            "6200 Done\n",
            "6300 Done\n",
            "6400 Done\n",
            "6500 Done\n",
            "6600 Done\n",
            "6700 Done\n",
            "6800 Done\n",
            "6900 Done\n",
            "7000 Done\n",
            "7100 Done\n",
            "7200 Done\n",
            "7300 Done\n",
            "7400 Done\n",
            "7500 Done\n",
            "7600 Done\n",
            "7700 Done\n",
            "7800 Done\n",
            "7900 Done\n",
            "8000 Done\n",
            "8100 Done\n",
            "8200 Done\n",
            "8300 Done\n",
            "8400 Done\n",
            "8500 Done\n",
            "8600 Done\n",
            "8700 Done\n",
            "8800 Done\n",
            "8900 Done\n",
            "9000 Done\n",
            "9100 Done\n",
            "9200 Done\n",
            "9300 Done\n",
            "9400 Done\n",
            "9500 Done\n",
            "9600 Done\n",
            "9700 Done\n",
            "9800 Done\n",
            "9900 Done\n"
          ],
          "name": "stdout"
        }
      ]
    },
    {
      "cell_type": "code",
      "metadata": {
        "colab": {
          "base_uri": "https://localhost:8080/"
        },
        "id": "pzWK3x9b8ZT3",
        "outputId": "41c1cc49-cd8f-4107-b10e-b984d69cc125"
      },
      "source": [
        "predictions2 = np.load(location2 + 'predictions2_final.npy') \n",
        "  \n",
        "print(\"Predictions 2 shape:\", predictions2.shape) "
      ],
      "execution_count": null,
      "outputs": [
        {
          "output_type": "stream",
          "text": [
            "Predictions 2 shape: (10000,)\n"
          ],
          "name": "stdout"
        }
      ]
    },
    {
      "cell_type": "code",
      "metadata": {
        "colab": {
          "base_uri": "https://localhost:8080/"
        },
        "id": "SBtFF-3ZVvzY",
        "outputId": "355d5153-f997-484f-c73b-5049ded640c2"
      },
      "source": [
        "# print(bad_image_count)\n",
        "# for key in bad_image_dict:\n",
        "#     print(\"Number of images with \" + str(key) + \" detected digits: \" + str(len(bad_image_dict[key])))    \n",
        "# print(\"Printing wrongly localised image indices\")\n",
        "# print(bad_image_dict)"
      ],
      "execution_count": null,
      "outputs": [
        {
          "output_type": "stream",
          "text": [
            "32\n",
            "Number of images with 3 detected digits: 13\n",
            "Number of images with 5 detected digits: 19\n",
            "Printing wrongly localised image indices\n",
            "{'3': [625, 755, 1065, 1551, 2399, 2925, 3330, 3687, 4069, 5155, 5644, 6875, 9171], '5': [947, 2446, 2967, 2968, 3042, 4432, 5042, 6661, 6692, 7047, 7334, 7572, 7902, 8179, 9265, 9697, 9711, 9786, 9963]}\n"
          ],
          "name": "stdout"
        }
      ]
    },
    {
      "cell_type": "code",
      "metadata": {
        "colab": {
          "base_uri": "https://localhost:8080/"
        },
        "id": "Y3hzlxqCWKBQ",
        "outputId": "8648d7c2-3554-4b09-d7b3-5bfb24295c2a"
      },
      "source": [
        "predictions1 = np.argmax(predictions1_full, axis=1)\n",
        "predictions3 = np.argmax(predictions3_full, axis=1)\n",
        "\n",
        "all_agree = []\n",
        "one_two_agree = []\n",
        "one_three_agree = []\n",
        "two_three_agree = []\n",
        "none_agree = []\n",
        "\n",
        "for i in range(10000):\n",
        "  if (predictions1[i] == predictions2[i] and predictions1[i] == predictions3[i]):\n",
        "    all_agree.append(i)\n",
        "  elif (predictions1[i] == predictions2[i] and predictions1[i] != predictions3[i]):\n",
        "    one_two_agree.append(i)\n",
        "  elif (predictions1[i] != predictions2[i] and predictions1[i] == predictions3[i]):\n",
        "    one_three_agree.append(i)\n",
        "  elif (predictions1[i] != predictions2[i] and predictions2[i] == predictions3[i]):\n",
        "    two_three_agree.append(i)\n",
        "  elif (predictions1[i] != predictions2[i] and predictions1[i] != predictions3[i] and predictions2[i] != predictions3[i]):\n",
        "    none_agree.append(i)\n",
        "\n",
        "print(\"All agree:\", len(all_agree))\n",
        "print(\"1 and 2 agree:\", len(one_two_agree))\n",
        "print(\"1 and 3 agree:\", len(one_three_agree))\n",
        "print(\"2 and 3 agree:\", len(two_three_agree))\n",
        "print(\"None agree:\", len(none_agree))"
      ],
      "execution_count": 11,
      "outputs": [
        {
          "output_type": "stream",
          "text": [
            "All agree: 5481\n",
            "1 and 2 agree: 1164\n",
            "1 and 3 agree: 1679\n",
            "2 and 3 agree: 819\n",
            "None agree: 857\n"
          ],
          "name": "stdout"
        }
      ]
    },
    {
      "cell_type": "code",
      "metadata": {
        "colab": {
          "base_uri": "https://localhost:8080/"
        },
        "id": "rPEAMEVIF0aq",
        "outputId": "38af8d50-c4ce-4865-a5c8-7421b7ecc954"
      },
      "source": [
        "predictions1 = np.argmax(predictions1_full, axis=1)\n",
        "predictions3 = np.argmax(predictions3_full, axis=1)\n",
        "predictions4 = np.argmax(predictions4_full, axis=1)\n",
        "\n",
        "all_agree = []\n",
        "\n",
        "four_disagree = []\n",
        "three_disagree = []\n",
        "two_disagree = []\n",
        "one_disagree = []\n",
        "\n",
        "one_two_agree = []\n",
        "one_three_agree = []\n",
        "one_four_agree = []\n",
        "two_three_agree = []\n",
        "two_four_agree = [] \n",
        "\n",
        "two_on_both_agree = [] # go with 2\n",
        "\n",
        "none_agree = [] #go with 2\n",
        "\n",
        "\n",
        "for i in range(10000):\n",
        "  if (predictions1[i] == predictions2[i] and predictions1[i] == predictions3[i] and predictions1[i] == predictions4[i]):\n",
        "    all_agree.append(i)\n",
        "\n",
        "  elif (predictions1[i] == predictions2[i] and predictions1[i] == predictions3[i] and predictions1[i] != predictions4[i]):\n",
        "    four_disagree.append(i)\n",
        "  elif (predictions1[i] == predictions2[i] and predictions1[i] != predictions3[i] and predictions1[i] == predictions4[i]):\n",
        "    three_disagree.append(i)\n",
        "  elif (predictions1[i] != predictions2[i] and predictions1[i] == predictions3[i] and predictions1[i] == predictions4[i]):\n",
        "    two_disagree.append(i)\n",
        "  elif (predictions2[i] != predictions1[i] and predictions2[i] == predictions3[i] and predictions2[i] == predictions4[i]):\n",
        "    one_disagree.append(i)\n",
        "  \n",
        "  elif (predictions1[i] == predictions2[i] and predictions1[i] != predictions3[i] and predictions1[i] != predictions4[i] and predictions3[i] != predictions4[i]):\n",
        "    one_two_agree.append(i)\n",
        "  elif (predictions1[i] == predictions3[i] and predictions1[i] != predictions2[i] and predictions1[i] != predictions4[i] and predictions2[i] != predictions4[i]):\n",
        "    one_three_agree.append(i)\n",
        "  elif (predictions1[i] == predictions4[i] and predictions1[i] != predictions2[i] and predictions1[i] != predictions3[i] and predictions2[i] != predictions3[i]):\n",
        "    one_four_agree.append(i)\n",
        "  elif (predictions2[i] == predictions3[i] and predictions2[i] != predictions1[i] and predictions2[i] != predictions4[i] and predictions1[i] != predictions4[i]):\n",
        "    two_three_agree.append(i)\n",
        "  elif (predictions2[i] == predictions4[i] and predictions2[i] != predictions1[i] and predictions2[i] != predictions3[i] and predictions1[i] != predictions3[i]):\n",
        "    two_four_agree.append(i)\n",
        "\n",
        "  elif (predictions1[i] == predictions2[i] and predictions1[i] != predictions3[i] and predictions3[i] == predictions4[i]):\n",
        "    two_on_both_agree.append(i)\n",
        "  elif (predictions1[i] == predictions3[i] and predictions1[i] != predictions4[i] and predictions2[i] == predictions4[i]):\n",
        "    two_on_both_agree.append(i)\n",
        "  elif (predictions1[i] == predictions4[i] and predictions1[i] != predictions2[i] and predictions2[i] == predictions3[i]):\n",
        "    two_on_both_agree.append(i)\n",
        "\n",
        "  elif (predictions1[i] != predictions2[i] and predictions1[i] != predictions3[i] and predictions1[i] != predictions4[i] \n",
        "        and predictions2[i] != predictions3[i] and predictions2[i] != predictions4[i] and predictions3[i] != predictions4[i]):\n",
        "    none_agree.append(i)\n",
        "\n",
        "print(\"All agree:\", len(all_agree))\n",
        "\n",
        "print(\"1 disagrees:\", len(one_disagree))\n",
        "print(\"2 disagrees:\", len(two_disagree))\n",
        "print(\"3 disagrees:\", len(three_disagree))\n",
        "print(\"4 disagrees:\", len(four_disagree))\n",
        "\n",
        "print(\"1 and 2 agree:\", len(one_two_agree))\n",
        "print(\"1 and 3 agree:\", len(one_three_agree))\n",
        "print(\"1 and 4 agree:\", len(one_four_agree))\n",
        "print(\"2 and 3 agree:\", len(two_three_agree))\n",
        "print(\"2 and 4 agree:\", len(two_four_agree))\n",
        "\n",
        "print(\"2 on both sides:\",len(two_on_both_agree))\n",
        "\n",
        "print(\"None agree:\", len(none_agree))"
      ],
      "execution_count": 12,
      "outputs": [
        {
          "output_type": "stream",
          "text": [
            "All agree: 5010\n",
            "1 disagrees: 575\n",
            "2 disagrees: 1164\n",
            "3 disagrees: 943\n",
            "4 disagrees: 471\n",
            "1 and 2 agree: 49\n",
            "1 and 3 agree: 283\n",
            "1 and 4 agree: 370\n",
            "2 and 3 agree: 44\n",
            "2 and 4 agree: 71\n",
            "2 on both sides: 604\n",
            "None agree: 133\n"
          ],
          "name": "stdout"
        }
      ]
    },
    {
      "cell_type": "code",
      "metadata": {
        "colab": {
          "base_uri": "https://localhost:8080/",
          "height": 199
        },
        "id": "hBW7ZlHgWQyv",
        "outputId": "0328162c-c349-4adc-fef6-b918a6ed8abf"
      },
      "source": [
        "index = 41\n",
        "plt.imshow(test_data[index].reshape(40, 168))\n",
        "plt.show()\n",
        "print(\"By model 1:\", predictions1[index])\n",
        "print(\"By model 2:\", predictions2[index])\n",
        "print(\"By model 3:\", predictions3[index])\n",
        "print(\"By model 4:\", predictions4[index])"
      ],
      "execution_count": 13,
      "outputs": [
        {
          "output_type": "display_data",
          "data": {
            "image/png": "[encoded data removed]",
            "text/plain": [
              "<Figure size 432x288 with 1 Axes>"
            ]
          },
          "metadata": {
            "tags": [],
            "needs_background": "light"
          }
        },
        {
          "output_type": "stream",
          "text": [
            "By model 1: 7\n",
            "By model 2: 10\n",
            "By model 3: 6\n",
            "By model 4: 6\n"
          ],
          "name": "stdout"
        }
      ]
    },
    {
      "cell_type": "code",
      "metadata": {
        "id": "5QBxyUvD6cQ_"
      },
      "source": [
        "def check_answers(X, pred1, pred2, pred3, pred4, ind):\n",
        "  \n",
        "  f = plt.figure(figsize=(20,4))\n",
        "  axs1 = f.add_subplot(241)\n",
        "  axs2 = f.add_subplot(242)\n",
        "  axs3 = f.add_subplot(243)\n",
        "  axs4 = f.add_subplot(244)\n",
        "  axs5 = f.add_subplot(245)\n",
        "  axs6 = f.add_subplot(246)\n",
        "  axs7 = f.add_subplot(247)\n",
        "  axs8 = f.add_subplot(248)\n",
        "  axs1.imshow(X[ind[0], :, :, 0])\n",
        "  axs1.set_title(\" Preds: \" + str(pred1[ind[0]]) + \" \"+ str(pred2[ind[0]]) + \" \" + str(pred3[ind[0]])+ \" \" + str(pred4[ind[0]]))\n",
        "  axs2.imshow(X[ind[1], :, :, 0])\n",
        "  axs2.set_title(\" Preds: \" + str(pred1[ind[1]]) + \" \"+ str(pred2[ind[1]]) + \" \" + str(pred3[ind[1]])+ \" \" + str(pred4[ind[1]]))\n",
        "  axs3.imshow(X[ind[2], :, :, 0])\n",
        "  axs3.set_title(\" Preds: \" + str(pred1[ind[2]]) + \" \"+ str(pred2[ind[2]]) + \" \" + str(pred3[ind[2]])+ \" \" + str(pred4[ind[2]]))\n",
        "  axs4.imshow(X[ind[3], :, :, 0])\n",
        "  axs4.set_title(\" Preds: \" + str(pred1[ind[3]]) + \" \"+ str(pred2[ind[3]]) + \" \" + str(pred3[ind[3]])+ \" \" + str(pred4[ind[3]]))\n",
        "  axs5.imshow(X[ind[4], :, :, 0])\n",
        "  axs5.set_title(\" Preds: \" + str(pred1[ind[4]]) + \" \"+ str(pred2[ind[4]]) + \" \" + str(pred3[ind[4]])+ \" \" + str(pred4[ind[4]]))\n",
        "  axs6.imshow(X[ind[5], :, :, 0])\n",
        "  axs6.set_title(\" Preds: \" + str(pred1[ind[5]]) + \" \"+ str(pred2[ind[5]]) + \" \" + str(pred3[ind[5]])+ \" \" + str(pred4[ind[5]]))\n",
        "  axs7.imshow(X[ind[6], :, :, 0])\n",
        "  axs7.set_title(\" Preds: \" + str(pred1[ind[6]]) + \" \"+ str(pred2[ind[6]]) + \" \" + str(pred3[ind[6]])+ \" \" + str(pred4[ind[6]]))\n",
        "  axs8.imshow(X[ind[7], :, :, 0])\n",
        "  axs8.set_title(\" Preds: \" + str(pred1[ind[7]]) + \" \"+ str(pred2[ind[7]]) + \" \" + str(pred3[ind[7]])+ \" \" + str(pred4[ind[7]]))"
      ],
      "execution_count": null,
      "outputs": []
    },
    {
      "cell_type": "code",
      "metadata": {
        "colab": {
          "base_uri": "https://localhost:8080/",
          "height": 240
        },
        "id": "IofUSYIDKgFB",
        "outputId": "05e82f60-93a3-422b-ede8-5942b08d7993"
      },
      "source": [
        "check_answers(test_data, predictions1, predictions2, predictions3, predictions4, two_disagree[5:])"
      ],
      "execution_count": null,
      "outputs": [
        {
          "output_type": "display_data",
          "data": {
            "image/png": "[encoded data removed]",
            "text/plain": [
              "<Figure size 1440x288 with 8 Axes>"
            ]
          },
          "metadata": {
            "tags": [],
            "needs_background": "light"
          }
        }
      ]
    },
    {
      "cell_type": "code",
      "metadata": {
        "colab": {
          "base_uri": "https://localhost:8080/"
        },
        "id": "cZkqc_FzatcQ",
        "outputId": "76da97a3-9221-4d8a-8301-d8e0e81c4f7d"
      },
      "source": [
        "predictions_final = []\n",
        "\n",
        "all_agree = []\n",
        "\n",
        "four_disagree = []\n",
        "three_disagree = []\n",
        "two_disagree = []\n",
        "one_disagree = []\n",
        "\n",
        "one_two_agree = []\n",
        "one_three_agree = []\n",
        "one_four_agree = []\n",
        "two_three_agree = []\n",
        "two_four_agree = [] \n",
        "three_four_agree = []\n",
        "\n",
        "two_on_both_agree = [] # go with 2\n",
        "\n",
        "none_agree = [] #go with 2\n",
        "\n",
        "\n",
        "for i in range(10000):\n",
        "\n",
        "  if (predictions1[i] == predictions2[i] and predictions1[i] == predictions3[i] and predictions1[i] == predictions4[i]):\n",
        "    all_agree.append(i)\n",
        "    predictions_final.append(predictions1[i])\n",
        "\n",
        "  elif (predictions1[i] == predictions2[i] and predictions1[i] == predictions3[i] and predictions1[i] != predictions4[i]):\n",
        "    four_disagree.append(i)\n",
        "    predictions_final.append(predictions1[i])\n",
        "\n",
        "  elif (predictions1[i] == predictions2[i] and predictions1[i] != predictions3[i] and predictions1[i] == predictions4[i]):\n",
        "    three_disagree.append(i)\n",
        "    predictions_final.append(predictions1[i])\n",
        "\n",
        "  elif (predictions1[i] != predictions2[i] and predictions1[i] == predictions3[i] and predictions1[i] == predictions4[i]):\n",
        "    two_disagree.append(i)\n",
        "    predictions_final.append(predictions1[i])\n",
        "\n",
        "  elif (predictions2[i] != predictions1[i] and predictions2[i] == predictions3[i] and predictions2[i] == predictions4[i]):\n",
        "    one_disagree.append(i)\n",
        "    predictions_final.append(predictions2[i])\n",
        "  \n",
        "  elif (predictions1[i] == predictions2[i] and predictions1[i] != predictions3[i] and predictions1[i] != predictions4[i] and predictions3[i] != predictions4[i]):\n",
        "    one_two_agree.append(i)\n",
        "    predictions_final.append(predictions1[i])\n",
        "\n",
        "  elif (predictions1[i] == predictions3[i] and predictions1[i] != predictions2[i] and predictions1[i] != predictions4[i] and predictions2[i] != predictions4[i]):\n",
        "    one_three_agree.append(i)\n",
        "    predictions_final.append(predictions1[i])\n",
        "\n",
        "  elif (predictions1[i] == predictions4[i] and predictions1[i] != predictions2[i] and predictions1[i] != predictions3[i] and predictions2[i] != predictions3[i]):\n",
        "    one_four_agree.append(i)\n",
        "    predictions_final.append(predictions1[i])\n",
        "\n",
        "  elif (predictions2[i] == predictions3[i] and predictions2[i] != predictions1[i] and predictions2[i] != predictions4[i] and predictions1[i] != predictions4[i]):\n",
        "    two_three_agree.append(i)\n",
        "    predictions_final.append(predictions2[i])\n",
        "\n",
        "  elif (predictions2[i] == predictions4[i] and predictions2[i] != predictions1[i] and predictions2[i] != predictions3[i] and predictions1[i] != predictions3[i]):\n",
        "    two_four_agree.append(i)\n",
        "    predictions_final.append(predictions2[i])\n",
        "\n",
        "  elif (predictions3[i] == predictions4[i] and predictions2[i] != predictions1[i] and predictions2[i] != predictions3[i] and predictions1[i] != predictions3[i]):\n",
        "    three_four_agree.append(i)\n",
        "    predictions_final.append(predictions3[i])\n",
        "\n",
        "  elif (predictions1[i] == predictions2[i] and predictions1[i] != predictions3[i] and predictions3[i] == predictions4[i]):\n",
        "    two_on_both_agree.append(i)\n",
        "    predictions_final.append(predictions2[i])\n",
        "\n",
        "  elif (predictions1[i] == predictions3[i] and predictions1[i] != predictions4[i] and predictions2[i] == predictions4[i]):\n",
        "    two_on_both_agree.append(i)\n",
        "    predictions_final.append(predictions2[i])\n",
        "\n",
        "  elif (predictions1[i] == predictions4[i] and predictions1[i] != predictions2[i] and predictions2[i] == predictions3[i]):\n",
        "    two_on_both_agree.append(i)\n",
        "    predictions_final.append(predictions2[i])\n",
        "\n",
        "  elif (predictions1[i] != predictions2[i] and predictions1[i] != predictions3[i] and predictions1[i] != predictions4[i] \n",
        "        and predictions2[i] != predictions3[i] and predictions2[i] != predictions4[i] and predictions3[i] != predictions4[i]):\n",
        "    none_agree.append(i)\n",
        "    predictions_final.append(predictions2[i])\n",
        "\n",
        "print(\"All agree:\", len(all_agree))\n",
        "\n",
        "print(\"1 disagrees:\", len(one_disagree))\n",
        "print(\"2 disagrees:\", len(two_disagree))\n",
        "print(\"3 disagrees:\", len(three_disagree))\n",
        "print(\"4 disagrees:\", len(four_disagree))\n",
        "\n",
        "print(\"1 and 2 agree:\", len(one_two_agree))\n",
        "print(\"1 and 3 agree:\", len(one_three_agree))\n",
        "print(\"1 and 4 agree:\", len(one_four_agree))\n",
        "print(\"2 and 3 agree:\", len(two_three_agree))\n",
        "print(\"2 and 4 agree:\", len(two_four_agree))\n",
        "print(\"3 and 4 agree:\", len(three_four_agree))\n",
        "\n",
        "print(\"2 on both sides:\",len(two_on_both_agree))\n",
        "\n",
        "print(\"None agree:\", len(none_agree))"
      ],
      "execution_count": 14,
      "outputs": [
        {
          "output_type": "stream",
          "text": [
            "All agree: 5010\n",
            "1 disagrees: 575\n",
            "2 disagrees: 1164\n",
            "3 disagrees: 943\n",
            "4 disagrees: 471\n",
            "1 and 2 agree: 49\n",
            "1 and 3 agree: 283\n",
            "1 and 4 agree: 370\n",
            "2 and 3 agree: 44\n",
            "2 and 4 agree: 71\n",
            "3 and 4 agree: 283\n",
            "2 on both sides: 604\n",
            "None agree: 133\n"
          ],
          "name": "stdout"
        }
      ]
    },
    {
      "cell_type": "code",
      "metadata": {
        "id": "ACjnANN3cQb8"
      },
      "source": [
        "np.save(location2 + \"predictions_final_01\", predictions_final)"
      ],
      "execution_count": 15,
      "outputs": []
    }
  ]
}