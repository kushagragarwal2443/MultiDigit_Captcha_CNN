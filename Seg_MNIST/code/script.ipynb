{
  "nbformat": 4,
  "nbformat_minor": 0,
  "metadata": {
    "colab": {
      "name": "script.ipynb",
      "provenance": [],
      "collapsed_sections": []
    },
    "kernelspec": {
      "name": "python3",
      "display_name": "Python 3"
    },
    "accelerator": "GPU"
  },
  "cells": [
    {
      "cell_type": "code",
      "metadata": {
        "id": "xxmyMB9rgz9d"
      },
      "source": [
        "import numpy as np\n",
        "import random\n",
        "import os\n",
        "import cv2\n",
        "import pandas\n",
        "import matplotlib.pyplot as plt\n",
        "import imutils\n",
        "import tensorflow as tf\n",
        "from google.colab import drive\n",
        "from sklearn.model_selection import KFold\n",
        "import keras\n",
        "from keras.utils import to_categorical\n",
        "from keras.models import model_from_json\n",
        "from keras.models import Sequential\n",
        "from keras.layers import Conv2D\n",
        "from keras.layers import MaxPooling2D\n",
        "from keras.layers import Dense\n",
        "from keras.layers import Flatten\n",
        "from keras.optimizers import SGD\n",
        "from sklearn.metrics import classification_report, confusion_matrix\n",
        "from numpy import mean\n",
        "from numpy import std\n",
        "from keras.datasets import mnist\n",
        "from PIL import Image, ImageOps"
      ],
      "execution_count": 1,
      "outputs": []
    },
    {
      "cell_type": "code",
      "metadata": {
        "colab": {
          "base_uri": "https://localhost:8080/",
          "height": 52
        },
        "id": "KpcX-ycKhAPQ",
        "outputId": "d0ddb736-483a-43ca-8c24-84563f6a9af6"
      },
      "source": [
        "drive.mount(\"/content/gdrive\")\n",
        "\n",
        "tf.test.gpu_device_name()"
      ],
      "execution_count": 2,
      "outputs": [
        {
          "output_type": "stream",
          "text": [
            "Mounted at /content/gdrive\n"
          ],
          "name": "stdout"
        },
        {
          "output_type": "execute_result",
          "data": {
            "application/vnd.google.colaboratory.intrinsic+json": {
              "type": "string"
            },
            "text/plain": [
              "'/device:GPU:0'"
            ]
          },
          "metadata": {
            "tags": []
          },
          "execution_count": 2
        }
      ]
    },
    {
      "cell_type": "code",
      "metadata": {
        "colab": {
          "base_uri": "https://localhost:8080/"
        },
        "id": "3YbUANjwhhq8",
        "outputId": "6858755b-7943-4784-9319-a1281eaa4cb1"
      },
      "source": [
        "location = \"/content/gdrive/My Drive/Colab Notebooks/MNIST/\"\n",
        "\n",
        "data_0 = np.load(location + \"Data/data0.npy\")\n",
        "data_1 = np.load(location + \"Data/data1.npy\")\n",
        "data_2 = np.load(location + \"Data/data2.npy\")\n",
        "\n",
        "label_0 = np.load(location + \"Label/lab0.npy\")\n",
        "label_1 = np.load(location + \"Label/lab1.npy\")\n",
        "label_2 = np.load(location + \"Label/lab2.npy\")\n",
        "\n",
        "train_data = np.vstack((data_0, data_1, data_2))\n",
        "train_lab = np.hstack((label_0, label_1, label_2))\n",
        "print(\"Original dataset sizes:\", train_data.shape, train_lab.shape)\n",
        "\n",
        "img_rows = train_data.shape[1]\n",
        "img_cols = train_data.shape[2]\n",
        "\n",
        "train_data = train_data.reshape(-1, img_rows, img_cols, 1)\n",
        "train_data = train_data.reshape(-1, img_rows, img_cols, 1)\n",
        "\n",
        "print(\"Reformed dataset sizes:\", train_data.shape, train_lab.shape)"
      ],
      "execution_count": 3,
      "outputs": [
        {
          "output_type": "stream",
          "text": [
            "Original dataset sizes: (30000, 40, 168) (30000,)\n",
            "Reformed dataset sizes: (30000, 40, 168, 1) (30000,)\n"
          ],
          "name": "stdout"
        }
      ]
    },
    {
      "cell_type": "code",
      "metadata": {
        "id": "IYAXLVIBoCpA"
      },
      "source": [
        "# poisson noise\n",
        "def poission_noise(dataset):\n",
        "\n",
        "  vals = len(np.unique(dataset))\n",
        "  vals = 2 ** np.ceil(np.log2(vals))\n",
        "  dataset = np.random.poisson(dataset * vals) / float(vals)\n",
        "  return dataset\n",
        "\n",
        "# salt and pepper noise\n",
        "def salt_pepper_noise(dataset, prob = 0.005):\n",
        "    \n",
        "    thres = 1 - prob \n",
        "    for i in range(dataset.shape[0]):\n",
        "      for j in range(dataset.shape[1]):\n",
        "        for x in range(dataset.shape[2]):\n",
        "          rdn = random.random()\n",
        "          if rdn < prob:\n",
        "              dataset[i][j][x] = 0\n",
        "          elif rdn > thres:\n",
        "              dataset[i][j][x] = 255\n",
        "          else:\n",
        "              dataset[i][j][x] = dataset[i][j][x]\n",
        "    return dataset\n",
        "\n",
        "# gaussian noise\n",
        "def gaussian_noise(dataset, mult=1):\n",
        "\n",
        "  gauss = np.random.normal(0,1, dataset.size)\n",
        "  gauss = gauss.reshape(dataset.shape[0],dataset.shape[1],dataset.shape[2]).astype('float32')\n",
        "  dataset += mult*gauss\n",
        "\n",
        "  return dataset\n",
        "\n",
        "# bilateral filter\n",
        "def bilateral_filter(dataset, num_pix = 15):\n",
        "\n",
        "  for i in range(dataset.shape[0]):\n",
        "    image = dataset[i, :, :]\n",
        "    mean_image = cv2.bilateralFilter(image, num_pix, 75, 75)\n",
        "    dataset[i, :, :] = mean_image\n",
        "\n",
        "  return dataset\n",
        "\n",
        "def check_metrics(model, X_test, y_test):  \n",
        "\n",
        "  y_pred = np.argmax(model.predict(X_test),axis = 1)\n",
        "  y_true = np.argmax(y_test, axis=1)\n",
        "  print('##############  Confusion Matrix  ##############')\n",
        "  print()\n",
        "  np.set_printoptions(threshold=np.inf)\n",
        "  print(confusion_matrix(y_true, y_pred))\n",
        "  np.set_printoptions(threshold=100)\n",
        "  print()\n",
        "  print('##############  Classification Report  ##############')\n",
        "  print()\n",
        "  target_names = [str(i) for i in range(10)]\n",
        "  print(classification_report(y_true, y_pred, target_names=target_names))\n",
        "\n",
        "def resize_to_fit(image, width, height):\n",
        "    \n",
        "    deltaw = width - image.shape[1]\n",
        "    deltah = height - image.shape[0]\n",
        "    if (deltaw < 0 or deltah < 0):\n",
        "      if (deltaw < 0):\n",
        "        image = image[:, :28]\n",
        "        deltaw = width - image.shape[1]\n",
        "      if (deltah < 0):\n",
        "        image = image[:28, :]\n",
        "        deltah = height - image.shape[0]\n",
        "    if (deltaw % 2 == 0):\n",
        "      padW1 = int(deltaw/2)\n",
        "      padW2 = padW1\n",
        "    else:\n",
        "      padW1 = int(deltaw/2)\n",
        "      padW2 = padW1 + 1\n",
        "    if (deltah % 2 == 0):\n",
        "      padH1 = int(deltah/2)\n",
        "      padH2 = padH1\n",
        "    else:\n",
        "      padH1 = int(deltah/2)\n",
        "      padH2 = padH1 + 1\n",
        "    image = cv2.copyMakeBorder(image, padH1, padH2, padW1, padW2, cv2.BORDER_CONSTANT, value=0)\n",
        "    return image"
      ],
      "execution_count": 4,
      "outputs": []
    },
    {
      "cell_type": "code",
      "metadata": {
        "id": "ij2Cec3l1WTy",
        "colab": {
          "base_uri": "https://localhost:8080/"
        },
        "outputId": "e23ea33b-c464-498b-ecba-c3f3cec97351"
      },
      "source": [
        "(trainX, trainY), (testX, testY) = mnist.load_data()\n",
        "trainX = trainX.astype('float32')\n",
        "testX = testX.astype('float32')\n",
        "\n",
        "# trainX = gaussian_noise(trainX)\n",
        "# testX = gaussian_noise(testX)\n",
        "\n",
        "trainX = bilateral_filter(trainX, 5)\n",
        "testX = bilateral_filter(testX, 5)\n",
        "\n",
        "trainX = trainX.reshape((trainX.shape[0], 28, 28, 1))\n",
        "testX = testX.reshape((testX.shape[0], 28, 28, 1))\n",
        "trainY = to_categorical(trainY)\n",
        "testY = to_categorical(testY)\n",
        "print(trainX.shape, trainY.shape, testX.shape, testY.shape)\n",
        "\n",
        "trainX = trainX.astype('float32')\n",
        "trainX /= 255.0\n",
        " \n",
        "testX = testX.astype('float32')\n",
        "testX /= 255.0"
      ],
      "execution_count": 5,
      "outputs": [
        {
          "output_type": "stream",
          "text": [
            "Downloading data from https://storage.googleapis.com/tensorflow/tf-keras-datasets/mnist.npz\n",
            "11493376/11490434 [==============================] - 0s 0us/step\n",
            "(60000, 28, 28, 1) (60000, 10) (10000, 28, 28, 1) (10000, 10)\n"
          ],
          "name": "stdout"
        }
      ]
    },
    {
      "cell_type": "code",
      "metadata": {
        "colab": {
          "base_uri": "https://localhost:8080/",
          "height": 513
        },
        "id": "7Pn9VlzEAv9l",
        "outputId": "78af342b-7ed9-43c5-e93b-c4d498d4f609"
      },
      "source": [
        "index = 39\n",
        "\n",
        "plt.imshow(trainX[index].reshape(28,28))\n",
        "plt.show()\n",
        "plt.hist(trainX[index].reshape(28, 28).ravel(),10,[0,1])\n",
        "plt.show()"
      ],
      "execution_count": 6,
      "outputs": [
        {
          "output_type": "display_data",
          "data": {
            "image/png": "[encoded data removed]",
            "text/plain": [
              "<Figure size 432x288 with 1 Axes>"
            ]
          },
          "metadata": {
            "tags": [],
            "needs_background": "light"
          }
        },
        {
          "output_type": "display_data",
          "data": {
            "image/png": "[encoded data removed]",
            "text/plain": [
              "<Figure size 432x288 with 1 Axes>"
            ]
          },
          "metadata": {
            "tags": [],
            "needs_background": "light"
          }
        }
      ]
    },
    {
      "cell_type": "code",
      "metadata": {
        "colab": {
          "base_uri": "https://localhost:8080/"
        },
        "id": "z3a8ZllAwc4-",
        "outputId": "cec3e676-732d-4963-8603-f64e21d65e88"
      },
      "source": [
        "model = Sequential()\n",
        "model.add(Conv2D(32, (3, 3), activation='relu', kernel_initializer='he_uniform', input_shape=(28, 28, 1)))\n",
        "model.add(MaxPooling2D((2, 2)))\n",
        "model.add(Conv2D(64, (3, 3), activation='relu', kernel_initializer='he_uniform'))\n",
        "model.add(Conv2D(64, (3, 3), activation='relu', kernel_initializer='he_uniform'))\n",
        "model.add(MaxPooling2D((2, 2)))\n",
        "model.add(Flatten())\n",
        "model.add(Dense(100, activation='relu', kernel_initializer='he_uniform'))\n",
        "# model.add(Dense(100, activation='relu', kernel_initializer='he_uniform'))\n",
        "model.add(Dense(10, activation='softmax'))\n",
        "model.compile(optimizer='adam', loss='categorical_crossentropy', metrics=['accuracy'])\n",
        "print(model.summary())"
      ],
      "execution_count": null,
      "outputs": [
        {
          "output_type": "stream",
          "text": [
            "Model: \"sequential_9\"\n",
            "_________________________________________________________________\n",
            "Layer (type)                 Output Shape              Param #   \n",
            "=================================================================\n",
            "conv2d_27 (Conv2D)           (None, 26, 26, 32)        320       \n",
            "_________________________________________________________________\n",
            "max_pooling2d_18 (MaxPooling (None, 13, 13, 32)        0         \n",
            "_________________________________________________________________\n",
            "conv2d_28 (Conv2D)           (None, 11, 11, 64)        18496     \n",
            "_________________________________________________________________\n",
            "conv2d_29 (Conv2D)           (None, 9, 9, 64)          36928     \n",
            "_________________________________________________________________\n",
            "max_pooling2d_19 (MaxPooling (None, 4, 4, 64)          0         \n",
            "_________________________________________________________________\n",
            "flatten_9 (Flatten)          (None, 1024)              0         \n",
            "_________________________________________________________________\n",
            "dense_21 (Dense)             (None, 100)               102500    \n",
            "_________________________________________________________________\n",
            "dense_22 (Dense)             (None, 10)                1010      \n",
            "=================================================================\n",
            "Total params: 159,254\n",
            "Trainable params: 159,254\n",
            "Non-trainable params: 0\n",
            "_________________________________________________________________\n",
            "None\n"
          ],
          "name": "stdout"
        }
      ]
    },
    {
      "cell_type": "code",
      "metadata": {
        "colab": {
          "base_uri": "https://localhost:8080/"
        },
        "id": "5ZaS0RVm06Q4",
        "outputId": "594eeba9-6130-45a2-9311-ac3d1d89dd56"
      },
      "source": [
        "batch_size = 200\n",
        "num_epoch = 1\n",
        "model_log = model.fit(trainX, trainY, batch_size=batch_size, epochs=num_epoch, verbose=1, validation_data=(testX, testY))"
      ],
      "execution_count": null,
      "outputs": [
        {
          "output_type": "stream",
          "text": [
            "300/300 [==============================] - 2s 7ms/step - loss: 0.0024 - accuracy: 0.9995 - val_loss: 0.0294 - val_accuracy: 0.9930\n"
          ],
          "name": "stdout"
        }
      ]
    },
    {
      "cell_type": "code",
      "metadata": {
        "colab": {
          "base_uri": "https://localhost:8080/"
        },
        "id": "JxqJE93kUF9B",
        "outputId": "82339705-ccd0-40ad-bb36-f11e04e1b50b"
      },
      "source": [
        "choice = int(input(\"Do you want to store this model?? Enter 1 for Yes and 0 for No: \"))\n",
        "if(choice == 1):\n",
        "  \n",
        "  acc_tr = int(input(\"Enter train accuracy rounded to the nearest integer: \"))\n",
        "  acc_va = int(input(\"Enter validation accuracy rounded to the nearest integer: \"))\n",
        "  file_name = \"/content/gdrive/My Drive/Colab Notebooks/MNIST/\" + 'model_' + str(acc_tr) + \"_\" + str(acc_va)\n",
        "\n",
        "  # Save the model\n",
        "  # serialize model to JSON\n",
        "  model_json = model.to_json()\n",
        "  with open(file_name + \".json\", \"w\") as json_file:\n",
        "      json_file.write(model_json)\n",
        "  # serialize weights to HDF5\n",
        "  model.save_weights(file_name +\".h5\")\n",
        "  print(\"Saved model to disk\")"
      ],
      "execution_count": null,
      "outputs": [
        {
          "output_type": "stream",
          "text": [
            "Do you want to store this model?? Enter 1 for Yes and 0 for No: 1\n",
            "Enter train accuracy rounded to the nearest integer: 9995\n",
            "Enter validation accuracy rounded to the nearest integer: 9930\n",
            "Saved model to disk\n"
          ],
          "name": "stdout"
        }
      ]
    },
    {
      "cell_type": "code",
      "metadata": {
        "colab": {
          "base_uri": "https://localhost:8080/"
        },
        "id": "phVcshypJHZ2",
        "outputId": "a74160d1-3f27-467b-c07d-1796ad458aef"
      },
      "source": [
        "choice = int(input(\"Do you want to load any saved model? Enter 1 for Yes and 0 for No: \"))\n",
        "if(choice == 1):\n",
        "\n",
        "  acc_tr = int(input(\"Enter train accuracy rounded to the nearest integer: \"))\n",
        "  acc_va = int(input(\"Enter validation accuracy rounded to the nearest integer: \"))\n",
        "  file_name = \"/content/gdrive/My Drive/Colab Notebooks/MNIST/\" + 'model_' + str(acc_tr) + \"_\" + str(acc_va)\n",
        "\n",
        "  # load json and create model\n",
        "  json_file = open(file_name + '.json', 'r')\n",
        "  model_json = json_file.read()\n",
        "  json_file.close()\n",
        "  model = model_from_json(model_json)\n",
        "  # load weights into new model\n",
        "  model.load_weights(file_name + \".h5\")\n",
        "  print(\"Loaded model from disk\")\n",
        "\n",
        "  # evaluate loaded model on test data\n",
        "  model.compile(loss=keras.losses.categorical_crossentropy, optimizer='adam', metrics=['accuracy'])"
      ],
      "execution_count": 11,
      "outputs": [
        {
          "output_type": "stream",
          "text": [
            "Do you want to load any saved model? Enter 1 for Yes and 0 for No: 1\n",
            "Enter train accuracy rounded to the nearest integer: 9997\n",
            "Enter validation accuracy rounded to the nearest integer: 9943\n",
            "Loaded model from disk\n"
          ],
          "name": "stdout"
        }
      ]
    },
    {
      "cell_type": "code",
      "metadata": {
        "colab": {
          "base_uri": "https://localhost:8080/",
          "height": 282
        },
        "id": "jHuXEsDORb8r",
        "outputId": "13938897-e5d6-4c9e-a7d9-4840bbaefa06"
      },
      "source": [
        "index = 3203\n",
        "plt.imshow(testX[index].reshape(28, 28))\n",
        "plt.show()\n",
        "label_p = np.argmax(model.predict(testX[index].reshape(1, 28, 28, 1)))\n",
        "print(label_p)"
      ],
      "execution_count": 12,
      "outputs": [
        {
          "output_type": "display_data",
          "data": {
            "image/png": "[encoded data removed]",
            "text/plain": [
              "<Figure size 432x288 with 1 Axes>"
            ]
          },
          "metadata": {
            "tags": [],
            "needs_background": "light"
          }
        },
        {
          "output_type": "stream",
          "text": [
            "1\n"
          ],
          "name": "stdout"
        }
      ]
    },
    {
      "cell_type": "code",
      "metadata": {
        "colab": {
          "base_uri": "https://localhost:8080/",
          "height": 386
        },
        "id": "mL67pLKw1d7_",
        "outputId": "8a0edb34-2e19-4d46-c0c2-03cc1f288a19"
      },
      "source": [
        "fig = plt.figure()\n",
        "plt.figure(figsize=(8,5))\n",
        "plt.subplot(1,2,1)\n",
        "plt.plot(model_log.history['accuracy'])\n",
        "plt.plot(model_log.history['val_accuracy'])\n",
        "plt.title('Accuracy vs Epoch')\n",
        "plt.ylabel('Accuracy')\n",
        "plt.xlabel('# Epoch')\n",
        "plt.legend(['train', 'test'], loc='lower right')\n",
        "\n",
        "plt.subplot(1,2,2)\n",
        "plt.plot(model_log.history['loss'])\n",
        "plt.plot(model_log.history['val_loss'])\n",
        "plt.title('Loss vs Epoch')\n",
        "plt.ylabel('Loss')\n",
        "plt.xlabel('# Epoch')\n",
        "plt.legend(['train', 'test'], loc='upper right')\n",
        "\n",
        "plt.tight_layout()\n",
        "# plt.savefig(location + \"Plots.png\")"
      ],
      "execution_count": null,
      "outputs": [
        {
          "output_type": "display_data",
          "data": {
            "text/plain": [
              "<Figure size 432x288 with 0 Axes>"
            ]
          },
          "metadata": {
            "tags": []
          }
        },
        {
          "output_type": "display_data",
          "data": {
            "image/png": "[encoded data removed]",
            "text/plain": [
              "<Figure size 576x360 with 2 Axes>"
            ]
          },
          "metadata": {
            "tags": [],
            "needs_background": "light"
          }
        }
      ]
    },
    {
      "cell_type": "code",
      "metadata": {
        "colab": {
          "base_uri": "https://localhost:8080/"
        },
        "id": "si3yF5sI1sQl",
        "outputId": "6cac0706-e628-458c-9ce3-6dd646c507a3"
      },
      "source": [
        "check_metrics(model, testX, testY)"
      ],
      "execution_count": null,
      "outputs": [
        {
          "output_type": "stream",
          "text": [
            "##############  Confusion Matrix  ##############\n",
            "\n",
            "[[ 975    1    0    0    1    0    2    1    0    0]\n",
            " [   0 1133    0    1    0    1    0    0    0    0]\n",
            " [   0    0 1027    0    0    0    2    3    0    0]\n",
            " [   0    0    2 1002    0    5    0    1    0    0]\n",
            " [   0    0    0    0  978    0    2    0    0    2]\n",
            " [   1    0    0    4    0  881    4    1    1    0]\n",
            " [   1    3    0    0    1    1  952    0    0    0]\n",
            " [   0    8    2    0    1    0    0 1016    0    1]\n",
            " [   4    0    3    1    2    0    0    2  958    4]\n",
            " [   0    1    0    0   10    6    1    4    0  987]]\n",
            "\n",
            "##############  Classification Report  ##############\n",
            "\n",
            "              precision    recall  f1-score   support\n",
            "\n",
            "           0       0.99      0.99      0.99       980\n",
            "           1       0.99      1.00      0.99      1135\n",
            "           2       0.99      1.00      0.99      1032\n",
            "           3       0.99      0.99      0.99      1010\n",
            "           4       0.98      1.00      0.99       982\n",
            "           5       0.99      0.99      0.99       892\n",
            "           6       0.99      0.99      0.99       958\n",
            "           7       0.99      0.99      0.99      1028\n",
            "           8       1.00      0.98      0.99       974\n",
            "           9       0.99      0.98      0.99      1009\n",
            "\n",
            "    accuracy                           0.99     10000\n",
            "   macro avg       0.99      0.99      0.99     10000\n",
            "weighted avg       0.99      0.99      0.99     10000\n",
            "\n"
          ],
          "name": "stdout"
        }
      ]
    },
    {
      "cell_type": "code",
      "metadata": {
        "colab": {
          "base_uri": "https://localhost:8080/"
        },
        "id": "yl5H-fxnh3aQ",
        "outputId": "545ceca3-3933-44da-b3d7-4dacc840c9c7"
      },
      "source": [
        "bad_image_count = 0\n",
        "bad_image_dict = dict()\n",
        "\n",
        "correct = 0\n",
        "semicorrect = 0\n",
        "incorrect = 0\n",
        "\n",
        "show = 0\n",
        "start = 0\n",
        "end = 1000\n",
        "\n",
        "\n",
        "for (i,image) in enumerate(train_data[start:end]):\n",
        "\n",
        "    if(i>0 and i%100 == 0):\n",
        "      print(i, correct, semicorrect, incorrect, int(correct/(correct+incorrect+semicorrect)*10000)/100,\n",
        "            int(semicorrect/(correct+incorrect+semicorrect)*10000)/100,\n",
        "            int(incorrect/(correct+incorrect+semicorrect)*10000)/100, \"Done\")\n",
        "      \n",
        "    padded_image = cv2.copyMakeBorder(image, 8, 8, 8, 8, cv2.BORDER_REPLICATE)\n",
        "\n",
        "    if(show == 1):\n",
        "      plt.imshow(padded_image)\n",
        "      plt.show()\n",
        "      \n",
        "    # Finding the contours in the image\n",
        "    contours = cv2.findContours(padded_image.copy(), cv2.RETR_EXTERNAL, cv2.CHAIN_APPROX_SIMPLE)\n",
        "    contours = contours[1] if imutils.is_cv3() else contours[0]\n",
        "    \n",
        "    letter_image_regions = []\n",
        "\n",
        "    for contour in contours:\n",
        "        (x, y, w, h) = cv2.boundingRect(contour)\n",
        "        \n",
        "        if (w > 40):\n",
        "            # print(\"Splitting into 3\")\n",
        "            # This contour is too wide to be a single letter, hence split\n",
        "            onethird_width = int(w / 3)\n",
        "            letter_image_regions.append((x, y, onethird_width, h))\n",
        "            letter_image_regions.append((x + onethird_width, y, onethird_width, h))\n",
        "            letter_image_regions.append((x + 2*onethird_width, y, onethird_width, h))\n",
        "        \n",
        "        elif (w > 20):\n",
        "            # print(\"Splitting into 2\")\n",
        "            # This contour is too wide to be a single letter, hence split\n",
        "            half_width = int(w / 2)\n",
        "            letter_image_regions.append((x, y, half_width, h))\n",
        "            letter_image_regions.append((x + half_width, y, half_width, h))\n",
        "        \n",
        "        elif (w< 3 or h<9):\n",
        "            # print(\"Random pixel block\")\n",
        "            # Some error in contouring, ignore!\n",
        "            continue\n",
        "        \n",
        "        else:\n",
        "            letter_image_regions.append((x, y, w, h))\n",
        "        \n",
        "    # If less/more than 4 detected digits take note of the error\n",
        "    if len(letter_image_regions) != 4:\n",
        "        bad_image_count+=1\n",
        "        if (str(len(letter_image_regions)) not in bad_image_dict):\n",
        "            bad_image_dict[str(len(letter_image_regions))] = [i] \n",
        "        else:\n",
        "            bad_image_dict[str(len(letter_image_regions))].append(i)\n",
        "\n",
        "    # Sort the detected letter images based on the x coordinate\n",
        "    letter_image_regions = sorted(letter_image_regions, key=lambda x: x[0])\n",
        "    \n",
        "    sum = 0\n",
        "\n",
        "    for letter_bounding_box in letter_image_regions:\n",
        "        x, y, w, h = letter_bounding_box\n",
        "        letter_image = padded_image[y-2:y + h+2, x-2:x + w+2]\n",
        "        modified_image = resize_to_fit(letter_image, 28, 28)\n",
        "        modified_image = modified_image.astype('float32')\n",
        "\n",
        "        # gauss = np.random.normal(0,1, modified_image.size)\n",
        "        # gauss = gauss.reshape(modified_image.shape[0],modified_image.shape[1]).astype('float32')\n",
        "        # modified_image += gauss\n",
        "\n",
        "        modified_image = cv2.bilateralFilter(modified_image, 7, 15, 15)\n",
        "\n",
        "        modified_image /= 255.0\n",
        "        \n",
        "        if(show == 1):\n",
        "          plt.imshow(modified_image)\n",
        "          plt.show()\n",
        "          plt.hist(modified_image.ravel(),10,[0,1])\n",
        "          plt.show()\n",
        "\n",
        "        model_prediction = np.argmax(model.predict(modified_image.reshape(1, 28, 28, 1)),axis = 1)[0]\n",
        "        if(show == 1):\n",
        "          print(model_prediction)\n",
        "        sum += model_prediction\n",
        "\n",
        "    if(show == 1):\n",
        "      print(train_lab[start+i], sum)\n",
        "    \n",
        "    if ((train_lab[i+start] - sum) == 0):\n",
        "      correct +=1\n",
        "    elif ((train_lab[i+start] - sum) % 5 == 0):\n",
        "      semicorrect +=1\n",
        "    else:\n",
        "      incorrect +=1\n",
        "\n",
        "print(\"Correctly classified:\", correct)\n",
        "print(\"Semi-correctly classified:\", semicorrect)\n",
        "print(\"Incorrectly classified:\", incorrect)\n",
        "print(\"Percentage Accuracy:\", int(correct/(correct+incorrect+semicorrect)*10000)/100)\n",
        "print(\"Percentage Semi-Accuracy:\", int(semicorrect/(correct+incorrect+semicorrect)*10000)/100)\n",
        "print(\"Percentage Inaccuracy:\", int(incorrect/(correct+incorrect+semicorrect)*10000)/100)"
      ],
      "execution_count": 13,
      "outputs": [
        {
          "output_type": "stream",
          "text": [
            "100 78 7 15 78.0 7.0 15.0 Done\n",
            "200 165 12 23 82.5 6.0 11.5 Done\n",
            "300 240 22 38 80.0 7.33 12.66 Done\n",
            "400 323 25 52 80.75 6.25 13.0 Done\n",
            "500 395 32 73 79.0 6.4 14.6 Done\n",
            "600 476 42 82 79.33 7.0 13.66 Done\n",
            "700 555 47 98 79.28 6.71 14.0 Done\n",
            "800 634 56 110 79.25 7.0 13.75 Done\n",
            "900 709 65 126 78.77 7.22 14.0 Done\n",
            "Correctly classified: 792\n",
            "Semi-correctly classified: 71\n",
            "Incorrectly classified: 137\n",
            "Percentage Accuracy: 79.2\n",
            "Percentage Semi-Accuracy: 7.09\n",
            "Percentage Inaccuracy: 13.7\n"
          ],
          "name": "stdout"
        }
      ]
    },
    {
      "cell_type": "code",
      "metadata": {
        "colab": {
          "base_uri": "https://localhost:8080/"
        },
        "id": "ukYXJtfziCBn",
        "outputId": "921afa43-0717-4f22-c77b-c1cbff38bd1d"
      },
      "source": [
        "print(bad_image_count)\n",
        "for key in bad_image_dict:\n",
        "    print(\"Number of images with \" + str(key) + \" detected digits: \" + str(len(bad_image_dict[key])))    \n",
        "print(\"Printing wrongly localised image indices\")\n",
        "print(bad_image_dict)"
      ],
      "execution_count": null,
      "outputs": [
        {
          "output_type": "stream",
          "text": [
            "2\n",
            "Number of images with 3 detected digits: 1\n",
            "Number of images with 5 detected digits: 1\n",
            "Printing wrongly localised image indices\n",
            "{'3': [25], '5': [245]}\n"
          ],
          "name": "stdout"
        }
      ]
    }
  ]
}